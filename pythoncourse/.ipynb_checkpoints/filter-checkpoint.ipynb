{
 "cells": [
  {
   "cell_type": "code",
   "execution_count": null,
   "id": "86ea2bbc-2005-483c-863d-45ac4086a580",
   "metadata": {},
   "outputs": [],
   "source": [
    "##used to filter items from list or any other iterable\n",
    "#filter(fun,list)"
   ]
  },
  {
   "cell_type": "code",
   "execution_count": 14,
   "id": "49d3cbc9-977d-458a-82d3-a83473cf35e0",
   "metadata": {},
   "outputs": [
    {
     "data": {
      "text/plain": [
       "[2, 4, 2, 4, 6, 76]"
      ]
     },
     "execution_count": 14,
     "metadata": {},
     "output_type": "execute_result"
    }
   ],
   "source": [
    "even = lambda num: num % 2 == 0\n",
    "lst = [1, 2, 3, 4, 1, 2, 3, 4, 5, 6, 76, 3]\n",
    "list(filter(even, lst))\n"
   ]
  },
  {
   "cell_type": "code",
   "execution_count": 18,
   "id": "a3a83cbe-20bb-4dd8-bdf9-45f7683df224",
   "metadata": {},
   "outputs": [
    {
     "name": "stdout",
     "output_type": "stream",
     "text": [
      "[6, 8]\n"
     ]
    }
   ],
   "source": [
    "n=[1,2,3,4,5,6,7,8,9]\n",
    "ev_g5=list(filter(lambda x:x>5 and x%2==0,n))\n",
    "print(ev_g5)"
   ]
  },
  {
   "cell_type": "code",
   "execution_count": 19,
   "id": "e39be0d1-3484-4139-a90c-5d5e37032d0d",
   "metadata": {},
   "outputs": [
    {
     "name": "stdout",
     "output_type": "stream",
     "text": [
      "[{'name': 'Krish', 'age': 32}, {'name': 'Jack', 'age': 33}]\n"
     ]
    }
   ],
   "source": [
    "people = [\n",
    "    {'name': 'Krish', 'age': 32},\n",
    "    {'name': 'Jack', 'age': 33},\n",
    "    {'name': 'John', 'age': 25}\n",
    "]\n",
    "\n",
    "def age_greater_than_25(person):\n",
    "    return person['age'] > 25  # fixed the key by removing the extra space\n",
    "\n",
    "result = list(filter(age_greater_than_25, people))\n",
    "print(result)\n"
   ]
  },
  {
   "cell_type": "code",
   "execution_count": 20,
   "id": "6afb510a-f84a-4ece-900a-87dbbf47d437",
   "metadata": {},
   "outputs": [
    {
     "name": "stdout",
     "output_type": "stream",
     "text": [
      "True\n"
     ]
    }
   ],
   "source": [
    "x = 5\n",
    "print(isinstance(x, int))  # True\n"
   ]
  },
  {
   "cell_type": "code",
   "execution_count": null,
   "id": "ca582ba7-64ff-480b-8547-d040f2f0fcf0",
   "metadata": {},
   "outputs": [],
   "source": []
  }
 ],
 "metadata": {
  "kernelspec": {
   "display_name": "Python 3 (ipykernel)",
   "language": "python",
   "name": "python3"
  },
  "language_info": {
   "codemirror_mode": {
    "name": "ipython",
    "version": 3
   },
   "file_extension": ".py",
   "mimetype": "text/x-python",
   "name": "python",
   "nbconvert_exporter": "python",
   "pygments_lexer": "ipython3",
   "version": "3.12.10"
  }
 },
 "nbformat": 4,
 "nbformat_minor": 5
}
