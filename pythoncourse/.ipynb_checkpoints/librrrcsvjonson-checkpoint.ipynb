{
 "cells": [
  {
   "cell_type": "code",
   "execution_count": 5,
   "id": "d088659f-c30a-47ba-b44d-52677d4b0b5a",
   "metadata": {},
   "outputs": [
    {
     "name": "stdout",
     "output_type": "stream",
     "text": [
      "4\n",
      "10\n"
     ]
    }
   ],
   "source": [
    "import random\n",
    "print(random.randint(1,10))\n",
    "print(random.choice(['1jj','10','hshsj']))\n",
    "\n"
   ]
  },
  {
   "cell_type": "code",
   "execution_count": 6,
   "id": "a2ed4fa8-bedf-4dd8-b6da-dd61bac74de3",
   "metadata": {},
   "outputs": [
    {
     "name": "stdout",
     "output_type": "stream",
     "text": [
      "C:\\Users\\arsra\\2025june\n"
     ]
    }
   ],
   "source": [
    "import os\n",
    "print(os.getcwd())"
   ]
  },
  {
   "cell_type": "code",
   "execution_count": null,
   "id": "e73ffad7-7647-4ff9-b7f0-93dc11e7f4c5",
   "metadata": {},
   "outputs": [],
   "source": [
    "import shutil\n",
    "#shutil.copyfile(in,out) new file\n"
   ]
  },
  {
   "cell_type": "code",
   "execution_count": 8,
   "id": "b6b46075-b52d-4440-8c7c-41f8972489db",
   "metadata": {},
   "outputs": [
    {
     "name": "stdout",
     "output_type": "stream",
     "text": [
      "{\"name\": \"Bob\", \"age\": 30, \"is_student\": false}\n",
      "<class 'str'>\n",
      "{'name': 'Bob', 'age': 30, 'is_student': False}\n",
      "<class 'dict'>\n"
     ]
    }
   ],
   "source": [
    "#data serialization\n",
    "import json\n",
    "\n",
    "person = {\n",
    "    \"name\": \"Bob\",\n",
    "    \"age\": 30,\n",
    "    \"is_student\": False\n",
    "}\n",
    "\n",
    "# Convert Python dict to JSON string\n",
    "json_string = json.dumps(person)\n",
    "print(json_string)\n",
    "print(type(json_string))\n",
    "data = json.loads(json_string)#convert stg back to dic\n",
    "print(data)\n",
    "print(type(data))\n"
   ]
  },
  {
   "cell_type": "code",
   "execution_count": 9,
   "id": "65c276c0-263c-4e7c-bfea-c7a594323b4a",
   "metadata": {},
   "outputs": [
    {
     "name": "stdout",
     "output_type": "stream",
     "text": [
      "['Name', 'Age', 'City']\n",
      "['Alice', '25', 'New York']\n",
      "['Bob', '30', 'Los Angeles']\n"
     ]
    }
   ],
   "source": [
    "import csv\n",
    "\n",
    "# Step 1: Write to CSV file\n",
    "with open(\"data.csv\", mode=\"w\", newline='') as file:\n",
    "    writer = csv.writer(file)\n",
    "    writer.writerow([\"Name\", \"Age\", \"City\"])  # Header\n",
    "    writer.writerow([\"Alice\", 25, \"New York\"])\n",
    "    writer.writerow([\"Bob\", 30, \"Los Angeles\"])\n",
    "\n",
    "# Step 2: Read from CSV file\n",
    "with open(\"data.csv\", mode=\"r\") as file:\n",
    "    reader = csv.reader(file)\n",
    "    for row in reader:\n",
    "        print(row)\n"
   ]
  },
  {
   "cell_type": "code",
   "execution_count": 10,
   "id": "568e1865-00b1-4e21-99fc-8dd69d5a947e",
   "metadata": {},
   "outputs": [
    {
     "name": "stdout",
     "output_type": "stream",
     "text": [
      "Now: 2025-06-30 21:34:00.855721\n",
      "5 Days Later: 2025-07-05 21:34:00.855721\n"
     ]
    }
   ],
   "source": [
    "from datetime import datetime, timedelta\n",
    "\n",
    "now = datetime.now()\n",
    "print(\"Now:\", now)\n",
    "\n",
    "future = now + timedelta(days=5)\n",
    "print(\"5 Days Later:\", future)\n"
   ]
  },
  {
   "cell_type": "code",
   "execution_count": 11,
   "id": "045a672f-f3d4-4c5a-93f0-e514ab8a0560",
   "metadata": {},
   "outputs": [
    {
     "name": "stdout",
     "output_type": "stream",
     "text": [
      "Start\n",
      "End after 3 seconds\n"
     ]
    }
   ],
   "source": [
    "import time\n",
    "\n",
    "print(\"Start\")\n",
    "time.sleep(3)  # Wait for 3 seconds\n",
    "print(\"End after 3 seconds\")\n"
   ]
  },
  {
   "cell_type": "code",
   "execution_count": 12,
   "id": "22ea6576-45f7-43bc-b68f-0587e8133b29",
   "metadata": {},
   "outputs": [
    {
     "name": "stdout",
     "output_type": "stream",
     "text": [
      "search(): 9876543210\n",
      "match(): Hello\n",
      "findall(): ['Hello', 'My', 'phone', 'number', 'is', '9876543210', 'Call', 'me', 'at', '9am', 'or', 'email', 'me', 'at', 'test', 'example', 'com']\n",
      "sub(): Hello! My phone number is XXXXXXXXXX. Call me at Xam, or email me at test@example.com.\n",
      "split(): ['Hello!', 'My', 'phone', 'number', 'is', '9876543210.', 'Call', 'me', 'at', '9am', 'or', 'email', 'me', 'at', 'test@example.com.']\n",
      "compile().findall(): ['test@example.com']\n"
     ]
    }
   ],
   "source": [
    "import re\n",
    "\n",
    "text = \"Hello! My phone number is 9876543210. Call me at 9am, or email me at test@example.com.\"\n",
    "\n",
    "# 1. search() - find first match of 10-digit number\n",
    "match = re.search(r\"\\d{10}\", text)\n",
    "if match:\n",
    "    print(\"search():\", match.group())  # 9876543210\n",
    "\n",
    "# 2. match() - check if text starts with \"Hello\"\n",
    "match2 = re.match(r\"Hello\", text)\n",
    "if match2:\n",
    "    print(\"match():\", match2.group())  # Hello\n",
    "\n",
    "# 3. findall() - find all words\n",
    "words = re.findall(r\"\\w+\", text)\n",
    "print(\"findall():\", words)\n",
    "\n",
    "# 4. sub() - replace all digits with 'X'\n",
    "masked = re.sub(r\"\\d\", \"X\", text)\n",
    "print(\"sub():\", masked)\n",
    "\n",
    "# 5. split() - split by comma or space\n",
    "split_result = re.split(r\"[,\\s]+\", text)\n",
    "print(\"split():\", split_result)\n",
    "\n",
    "# 6. compile() - reuse a pattern\n",
    "email_pattern = re.compile(r\"\\w+@\\w+\\.\\w+\")\n",
    "email_matches = email_pattern.findall(text)\n",
    "print(\"compile().findall():\", email_matches)\n"
   ]
  },
  {
   "cell_type": "code",
   "execution_count": null,
   "id": "fb0da35e-54f7-40f5-ad0c-bc705f902514",
   "metadata": {},
   "outputs": [],
   "source": []
  }
 ],
 "metadata": {
  "kernelspec": {
   "display_name": "Python 3 (ipykernel)",
   "language": "python",
   "name": "python3"
  },
  "language_info": {
   "codemirror_mode": {
    "name": "ipython",
    "version": 3
   },
   "file_extension": ".py",
   "mimetype": "text/x-python",
   "name": "python",
   "nbconvert_exporter": "python",
   "pygments_lexer": "ipython3",
   "version": "3.12.10"
  }
 },
 "nbformat": 4,
 "nbformat_minor": 5
}
