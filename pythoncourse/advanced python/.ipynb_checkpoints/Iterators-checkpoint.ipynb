{
 "cells": [
  {
   "cell_type": "code",
   "execution_count": 43,
   "id": "e9de69a0-4dd2-4c85-b054-3bf969ece39e",
   "metadata": {},
   "outputs": [],
   "source": [
    "#iterator used for efficent looping and memory managment\n",
    "li=[1,3,4,5]\n",
    "iterator=iter(li)"
   ]
  },
  {
   "cell_type": "code",
   "execution_count": 37,
   "id": "c0c8cc01-6613-4ce7-b921-18eaf48c623d",
   "metadata": {},
   "outputs": [
    {
     "data": {
      "text/plain": [
       "<list_iterator at 0x276384ddd20>"
      ]
     },
     "execution_count": 37,
     "metadata": {},
     "output_type": "execute_result"
    }
   ],
   "source": [
    "iterator"
   ]
  },
  {
   "cell_type": "code",
   "execution_count": 42,
   "id": "a599637f-ce91-4883-a291-1ddf662807e9",
   "metadata": {},
   "outputs": [
    {
     "name": "stdout",
     "output_type": "stream",
     "text": [
      "STOP\n"
     ]
    }
   ],
   "source": [
    "\n",
    "try:\n",
    "    print(next(iterator))\n",
    "except StopIteration:\n",
    "    print(\"STOP\")"
   ]
  },
  {
   "cell_type": "code",
   "execution_count": null,
   "id": "623acc25-445c-4a6c-b497-fd670acb6b3f",
   "metadata": {},
   "outputs": [],
   "source": []
  },
  {
   "cell_type": "code",
   "execution_count": null,
   "id": "16455a69-5c94-4fb4-91fd-a5120cfac234",
   "metadata": {},
   "outputs": [],
   "source": []
  },
  {
   "cell_type": "code",
   "execution_count": null,
   "id": "141516e7-f75b-437d-a38a-832ce75dce16",
   "metadata": {},
   "outputs": [],
   "source": []
  }
 ],
 "metadata": {
  "kernelspec": {
   "display_name": "Python 3 (ipykernel)",
   "language": "python",
   "name": "python3"
  },
  "language_info": {
   "codemirror_mode": {
    "name": "ipython",
    "version": 3
   },
   "file_extension": ".py",
   "mimetype": "text/x-python",
   "name": "python",
   "nbconvert_exporter": "python",
   "pygments_lexer": "ipython3",
   "version": "3.12.10"
  }
 },
 "nbformat": 4,
 "nbformat_minor": 5
}
