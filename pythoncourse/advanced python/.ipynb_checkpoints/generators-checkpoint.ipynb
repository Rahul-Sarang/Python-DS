{
 "cells": [
  {
   "cell_type": "code",
   "execution_count": 20,
   "id": "5996de07-0fff-4d85-a4b1-54d48ddfc413",
   "metadata": {},
   "outputs": [],
   "source": [
    "#supclass of iterators"
   ]
  },
  {
   "cell_type": "code",
   "execution_count": 21,
   "id": "7d315310-8436-4ca1-ac15-efe556ea465b",
   "metadata": {},
   "outputs": [],
   "source": [
    " def sq(n):\n",
    "     for i in range(5):\n",
    "         yield i**2\n"
   ]
  },
  {
   "cell_type": "code",
   "execution_count": 22,
   "id": "55bf3af9-a9eb-45aa-9511-a8d52d03f0cb",
   "metadata": {},
   "outputs": [
    {
     "data": {
      "text/plain": [
       "<generator object sq at 0x000002914AEFD700>"
      ]
     },
     "execution_count": 22,
     "metadata": {},
     "output_type": "execute_result"
    }
   ],
   "source": [
    "sq(5)"
   ]
  },
  {
   "cell_type": "code",
   "execution_count": 23,
   "id": "2988a303-db22-40df-8c8a-a571d79855f2",
   "metadata": {},
   "outputs": [
    {
     "name": "stdout",
     "output_type": "stream",
     "text": [
      "0\n",
      "1\n",
      "4\n",
      "9\n",
      "16\n"
     ]
    }
   ],
   "source": [
    "for i in sq(5):\n",
    "    print(i)"
   ]
  },
  {
   "cell_type": "code",
   "execution_count": 24,
   "id": "a96e117d-8355-4347-a3a4-2fca638e9998",
   "metadata": {},
   "outputs": [],
   "source": [
    "sq1=sq(5)\n"
   ]
  },
  {
   "cell_type": "code",
   "execution_count": 25,
   "id": "d3145aaa-f801-420a-a25e-5b109193f473",
   "metadata": {},
   "outputs": [
    {
     "data": {
      "text/plain": [
       "0"
      ]
     },
     "execution_count": 25,
     "metadata": {},
     "output_type": "execute_result"
    }
   ],
   "source": [
    "next(sq1)"
   ]
  },
  {
   "cell_type": "code",
   "execution_count": 28,
   "id": "01c9fa8c-24bd-4c92-a0c6-4b1584be42a4",
   "metadata": {},
   "outputs": [],
   "source": [
    "### Practical example: reading a large file\n",
    "def r_l_f(file_path):\n",
    "    with open (file_path,'r', encoding='latin-1') as file:\n",
    "        for line in file:\n",
    "            yield line\n",
    "            \n",
    "            "
   ]
  },
  {
   "cell_type": "code",
   "execution_count": 29,
   "id": "bff60670-d110-4391-a4dd-ef78ead7893c",
   "metadata": {},
   "outputs": [
    {
     "name": "stdout",
     "output_type": "stream",
     "text": [
      "The president of India (ISO: BhÄrata kÄ RÄá¹£á¹­rapati) is the head of state of the Republic of India. The president is the nominal head of the executive,[a] the first citizen of the country, and the supreme commander of the Indian Armed Forces. Droupadi Murmu is the 15th and current president, having taken office on 25 July 2022.\n",
      "\n",
      "The office of president was created when India's constitution came into force and it became a republic on 26 January 1950. The president is indirectly elected by an electoral college comprising both houses of the Parliament of India and the legislative assemblies of each of India's states and territories, who themselves are all directly elected by the citizens.\n"
     ]
    }
   ],
   "source": [
    "file_path='genrat.txt'\n",
    "for line in r_l_f(file_path):\n",
    "    print(line.strip())"
   ]
  },
  {
   "cell_type": "code",
   "execution_count": null,
   "id": "e388d85e-a038-4cbb-9a9e-9fd85e09dc30",
   "metadata": {},
   "outputs": [],
   "source": []
  }
 ],
 "metadata": {
  "kernelspec": {
   "display_name": "Python 3 (ipykernel)",
   "language": "python",
   "name": "python3"
  },
  "language_info": {
   "codemirror_mode": {
    "name": "ipython",
    "version": 3
   },
   "file_extension": ".py",
   "mimetype": "text/x-python",
   "name": "python",
   "nbconvert_exporter": "python",
   "pygments_lexer": "ipython3",
   "version": "3.12.10"
  }
 },
 "nbformat": 4,
 "nbformat_minor": 5
}
