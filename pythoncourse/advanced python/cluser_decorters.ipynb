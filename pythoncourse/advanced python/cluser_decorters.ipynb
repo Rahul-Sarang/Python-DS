{
 "cells": [
  {
   "cell_type": "code",
   "execution_count": null,
   "id": "c41c55c3-930f-4dbf-ac5b-ea1e5ed5c79a",
   "metadata": {},
   "outputs": [],
   "source": [
    "##fub=ntion copy"
   ]
  },
  {
   "cell_type": "code",
   "execution_count": 1,
   "id": "f26c0520-5dec-49da-a96f-03a3d35d8194",
   "metadata": {},
   "outputs": [
    {
     "name": "stdout",
     "output_type": "stream",
     "text": [
      "15\n"
     ]
    }
   ],
   "source": [
    "def outer_function(x):\n",
    "    def inner_function(y):\n",
    "        return x + y\n",
    "    return inner_function\n",
    "add5 = outer_function(5)\n",
    "print(add5(10))  \n"
   ]
  },
  {
   "cell_type": "code",
   "execution_count": 2,
   "id": "1abc6539-c0a3-4d77-a146-fe3a2533e2c9",
   "metadata": {},
   "outputs": [],
   "source": [
    "#decorator\n",
    "def my_decorator(func):\n",
    "    def wrapper():\n",
    "        print(\"Something before the function...\")\n",
    "        result = func()\n",
    "        print(\"Something after the function...\")\n",
    "        return result\n",
    "    return wrapper\n"
   ]
  },
  {
   "cell_type": "code",
   "execution_count": 3,
   "id": "e80b5111-b175-4d04-9e4e-4506c746b973",
   "metadata": {},
   "outputs": [],
   "source": [
    "@my_decorator\n",
    "def say_hello():\n",
    "    return \"Hello!\"\n"
   ]
  },
  {
   "cell_type": "code",
   "execution_count": 4,
   "id": "a08a5b20-b12f-4d4a-a3b5-74c5cc2b4c54",
   "metadata": {},
   "outputs": [
    {
     "name": "stdout",
     "output_type": "stream",
     "text": [
      "Something before the function...\n",
      "Something after the function...\n"
     ]
    },
    {
     "data": {
      "text/plain": [
       "'Hello!'"
      ]
     },
     "execution_count": 4,
     "metadata": {},
     "output_type": "execute_result"
    }
   ],
   "source": [
    "say_hello()\n"
   ]
  },
  {
   "cell_type": "code",
   "execution_count": 5,
   "id": "098456dc-9515-4b8e-88e0-42b43ae4681e",
   "metadata": {},
   "outputs": [],
   "source": [
    "#with argument\n",
    "def repeat(n):\n",
    "    def decorator(func):\n",
    "        def wrapper(*args, **kwargs):\n",
    "            for _ in range(n):\n",
    "                func(*args, **kwargs)\n",
    "        return wrapper\n",
    "    return decorator\n"
   ]
  },
  {
   "cell_type": "code",
   "execution_count": 6,
   "id": "0e7ca83f-4364-427d-b838-001ad52a41c2",
   "metadata": {},
   "outputs": [],
   "source": [
    "@repeat(3)\n",
    "def greet(name):\n",
    "    print(f\"Hello, {name}!\")\n"
   ]
  },
  {
   "cell_type": "code",
   "execution_count": 7,
   "id": "cd2a6caa-9d5c-4bd0-836d-2fb3d0fc79aa",
   "metadata": {},
   "outputs": [
    {
     "name": "stdout",
     "output_type": "stream",
     "text": [
      "Hello, Rahul!\n",
      "Hello, Rahul!\n",
      "Hello, Rahul!\n"
     ]
    }
   ],
   "source": [
    "greet(\"Rahul\")\n"
   ]
  },
  {
   "cell_type": "code",
   "execution_count": null,
   "id": "2e0c06cb-1b1f-4e21-b958-46a8b0d4c5f2",
   "metadata": {},
   "outputs": [],
   "source": []
  }
 ],
 "metadata": {
  "kernelspec": {
   "display_name": "Python 3 (ipykernel)",
   "language": "python",
   "name": "python3"
  },
  "language_info": {
   "codemirror_mode": {
    "name": "ipython",
    "version": 3
   },
   "file_extension": ".py",
   "mimetype": "text/x-python",
   "name": "python",
   "nbconvert_exporter": "python",
   "pygments_lexer": "ipython3",
   "version": "3.12.10"
  }
 },
 "nbformat": 4,
 "nbformat_minor": 5
}
