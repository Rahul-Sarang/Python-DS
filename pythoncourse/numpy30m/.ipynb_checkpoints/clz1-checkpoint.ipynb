{
 "cells": [
  {
   "cell_type": "code",
   "execution_count": 17,
   "id": "9d96d651-d26d-4f46-9949-4e768e8ca227",
   "metadata": {},
   "outputs": [
    {
     "name": "stdout",
     "output_type": "stream",
     "text": [
      "[ 1 23  2  4]\n"
     ]
    }
   ],
   "source": [
    "import numpy as np\n",
    "\n",
    "\n",
    "arr=np.array([1,23,2,4])\n",
    "print(arr)"
   ]
  },
  {
   "cell_type": "code",
   "execution_count": 18,
   "id": "cf8979e5-c54a-4587-bbe5-1f4fe297eae8",
   "metadata": {},
   "outputs": [
    {
     "name": "stdout",
     "output_type": "stream",
     "text": [
      "(4,)\n"
     ]
    }
   ],
   "source": [
    "print(arr.shape)"
   ]
  },
  {
   "cell_type": "code",
   "execution_count": 19,
   "id": "98f88db4-9052-4e86-8b3b-b4f16a0a5ced",
   "metadata": {},
   "outputs": [
    {
     "name": "stdout",
     "output_type": "stream",
     "text": [
      "[[ 1 23]\n",
      " [ 2  4]]\n"
     ]
    }
   ],
   "source": [
    "print(arr.reshape(2,2))"
   ]
  },
  {
   "cell_type": "code",
   "execution_count": 20,
   "id": "6f0eaffc-d970-4027-84e4-122ece7fc51b",
   "metadata": {},
   "outputs": [
    {
     "data": {
      "text/plain": [
       "array([[7, 9, 7],\n",
       "       [7, 9, 4],\n",
       "       [4, 9, 0]], dtype=int32)"
      ]
     },
     "execution_count": 20,
     "metadata": {},
     "output_type": "execute_result"
    }
   ],
   "source": [
    "#vectorized op\n",
    "A =np.random.randint(0, 10, (3, 3))\n",
    "\n",
    "B=np.arange(1,10).reshape((3,3))\n",
    "B\n",
    "A"
   ]
  },
  {
   "cell_type": "code",
   "execution_count": 21,
   "id": "4988af2f-c63f-4387-8410-8b032820e43b",
   "metadata": {},
   "outputs": [
    {
     "name": "stdout",
     "output_type": "stream",
     "text": [
      "[[ 7 18 21]\n",
      " [28 45 24]\n",
      " [28 72  0]]\n"
     ]
    }
   ],
   "source": [
    "b=A*B\n",
    "print(b)"
   ]
  },
  {
   "cell_type": "code",
   "execution_count": 22,
   "id": "19b39cd8-9fdd-401a-9a93-4808f5293d00",
   "metadata": {},
   "outputs": [
    {
     "data": {
      "text/plain": [
       "array([[10, 11, 12],\n",
       "       [13, 14, 15],\n",
       "       [16, 17, 18]])"
      ]
     },
     "execution_count": 22,
     "metadata": {},
     "output_type": "execute_result"
    }
   ],
   "source": [
    "C=np.arange(10,19).reshape((3,3))\n",
    "C"
   ]
  },
  {
   "cell_type": "code",
   "execution_count": 31,
   "id": "554fbf37-d046-43c6-b7fa-5e509b8231b9",
   "metadata": {},
   "outputs": [
    {
     "name": "stdout",
     "output_type": "stream",
     "text": [
      "[[ -3  -2  -5]\n",
      " [ -6  -5 -11]\n",
      " [-12  -8 -18]]\n",
      "[[7.         4.5        2.33333333]\n",
      " [1.75       1.8        0.66666667]\n",
      " [0.57142857 1.125      0.        ]]\n"
     ]
    },
    {
     "data": {
      "text/plain": [
       "array([[ 7, 18, 21],\n",
       "       [28, 45, 24],\n",
       "       [28, 72,  0]])"
      ]
     },
     "execution_count": 31,
     "metadata": {},
     "output_type": "execute_result"
    }
   ],
   "source": [
    "d=A-C\n",
    "e=A/B\n",
    "g=A*B\n",
    "print(d)\n",
    "print(e)\n",
    "g"
   ]
  },
  {
   "cell_type": "code",
   "execution_count": 24,
   "id": "e5626dec-eaab-444a-972a-e25de9f188d7",
   "metadata": {},
   "outputs": [
    {
     "data": {
      "text/plain": [
       "array([[1., 0., 0.],\n",
       "       [0., 1., 0.],\n",
       "       [0., 0., 1.]])"
      ]
     },
     "execution_count": 24,
     "metadata": {},
     "output_type": "execute_result"
    }
   ],
   "source": [
    "np.eye(3)"
   ]
  },
  {
   "cell_type": "code",
   "execution_count": 27,
   "id": "99e42483-3494-4221-96ba-7a8698b4145a",
   "metadata": {},
   "outputs": [
    {
     "data": {
      "text/plain": [
       "array([[1., 1., 1., 1.],\n",
       "       [1., 1., 1., 1.],\n",
       "       [1., 1., 1., 1.]])"
      ]
     },
     "execution_count": 27,
     "metadata": {},
     "output_type": "execute_result"
    }
   ],
   "source": [
    "np.ones((3,4))"
   ]
  },
  {
   "cell_type": "code",
   "execution_count": 33,
   "id": "57df9fa4-dd51-4dda-8f53-1fb80cfe70f1",
   "metadata": {},
   "outputs": [
    {
     "name": "stdout",
     "output_type": "stream",
     "text": [
      "[[1.09663316e+03 8.10308393e+03 1.09663316e+03]\n",
      " [1.09663316e+03 8.10308393e+03 5.45981500e+01]\n",
      " [5.45981500e+01 8.10308393e+03 1.00000000e+00]]\n",
      "[[2.64575131 3.         2.64575131]\n",
      " [2.64575131 3.         2.        ]\n",
      " [2.         3.         0.        ]]\n"
     ]
    }
   ],
   "source": [
    "print(np.exp(A))\n",
    "print(np.sqrt(A))"
   ]
  },
  {
   "cell_type": "code",
   "execution_count": null,
   "id": "888c6fdf-a792-4cfa-9c27-c5908580a7e4",
   "metadata": {},
   "outputs": [],
   "source": []
  }
 ],
 "metadata": {
  "kernelspec": {
   "display_name": "Python 3 (ipykernel)",
   "language": "python",
   "name": "python3"
  },
  "language_info": {
   "codemirror_mode": {
    "name": "ipython",
    "version": 3
   },
   "file_extension": ".py",
   "mimetype": "text/x-python",
   "name": "python",
   "nbconvert_exporter": "python",
   "pygments_lexer": "ipython3",
   "version": "3.12.10"
  }
 },
 "nbformat": 4,
 "nbformat_minor": 5
}
