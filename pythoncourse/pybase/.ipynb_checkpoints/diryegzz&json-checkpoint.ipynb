{
 "cells": [
  {
   "cell_type": "code",
   "execution_count": 1,
   "id": "8829dce8-f3b0-42e9-a1ca-414dff0c2338",
   "metadata": {},
   "outputs": [
    {
     "name": "stdout",
     "output_type": "stream",
     "text": [
      "{'a': 78, 'b': 34, 'c': 10, 'k': 7, 'p': 4}\n"
     ]
    }
   ],
   "source": [
    "#merging\n",
    "a={'a':78,'b':34,'c':10}\n",
    "b={'k':7,'p':4}\n",
    "mg={**a,**b}\n",
    "print(mg)"
   ]
  },
  {
   "cell_type": "code",
   "execution_count": 2,
   "id": "2ce6551f-38ca-445a-990c-029598b4b539",
   "metadata": {},
   "outputs": [
    {
     "name": "stdout",
     "output_type": "stream",
     "text": [
      "{1: 1, 2: 4, 3: 9, 4: 16, 5: 25, 6: 36, 7: 49, 8: 64, 9: 81, 10: 100}\n"
     ]
    }
   ],
   "source": [
    "d1 = {i: i**2 for i in range(1, 6)}\n",
    "d2 = {i: i**2 for i in range(6, 11)}\n",
    "d1.update(d2)\n",
    "print(d1)"
   ]
  },
  {
   "cell_type": "code",
   "execution_count": 10,
   "id": "a60d302a-6814-41e3-aa94-5856b683bca5",
   "metadata": {},
   "outputs": [
    {
     "name": "stdout",
     "output_type": "stream",
     "text": [
      "S001: {'name': 'John Doe', 'age': 16, 'grades': {'math': 90, 'science': 85, 'english': 88}}\n",
      "name: John Doe\n",
      "age: 16\n",
      "grades: {'math': 90, 'science': 85, 'english': 88}\n",
      "{'name': 'John Doe', 'age': 16, 'grades': {'math': 90, 'science': 85, 'english': 88}}\n"
     ]
    }
   ],
   "source": [
    "\n",
    "students = {\n",
    "    'S001': {\n",
    "        'name': 'John Doe',\n",
    "        'age': 16,\n",
    "        'grades': {\n",
    "            'math': 90,\n",
    "            'science': 85,\n",
    "            'english': 88\n",
    "        }\n",
    "    }\n",
    "}\n",
    "\n"
   ]
  },
  {
   "cell_type": "code",
   "execution_count": 11,
   "id": "007f42df-4fb1-4964-ab10-85a7668d0d46",
   "metadata": {},
   "outputs": [
    {
     "name": "stdout",
     "output_type": "stream",
     "text": [
      "S001: {'name': 'John Doe', 'age': 16, 'grades': {'math': 90, 'science': 85, 'english': 88}}\n",
      "name: John Doe\n",
      "age: 16\n",
      "grades: {'math': 90, 'science': 85, 'english': 88}\n",
      "{'name': 'John Doe', 'age': 16, 'grades': {'math': 90, 'science': 85, 'english': 88}}\n"
     ]
    }
   ],
   "source": [
    "\n",
    "for student_id, student_info in students.items():\n",
    "    print(f\"{student_id}: {student_info}\")\n",
    "    for key, value in student_info.items():\n",
    "        print(f\"{key}: {value}\")\n",
    "\n",
    "print(students['S001'])  "
   ]
  },
  {
   "cell_type": "code",
   "execution_count": 16,
   "id": "1c3b78b6-f771-4050-85f3-4fdb4109485b",
   "metadata": {},
   "outputs": [],
   "source": [
    "#JSON data is written in key-value pairs,\n",
    "#similar to a dictionary in Python or an object in JavaScript.\n",
    "\n",
    "#Keys are always strings (in double quotes).\n",
    "#Values can be:\n",
    "#String (text)\n",
    "#Number (integer or decimal)\n",
    "#Boolean (true or false)\n",
    "#Array (list)\n",
    "#Object (another key-value collection)\n",
    "#null (no value)\n",
    "\n",
    "#Why is JSON important?\n",
    "#It is used widely in web APIs to send data back and forth.\n",
    "#It helps different programs written in different languages to communicate easily.\n",
    "#It is more compact and simpler than XML, which was popular before JSON.\n",
    "\n"
   ]
  },
  {
   "cell_type": "code",
   "execution_count": 20,
   "id": "a69257c1-b71c-48ce-bea1-ca1227777069",
   "metadata": {},
   "outputs": [
    {
     "name": "stdout",
     "output_type": "stream",
     "text": [
      "{\"title\": \"To Kill a Mockingbird\", \"author\": \"Harper Lee\", \"year\": 1960, \"genre\": \"Fiction\"}\n",
      "{'title': 'To Kill a Mockingbird', 'author': 'Harper Lee', 'year': 1960, 'genre': 'Fiction'}\n"
     ]
    }
   ],
   "source": [
    "import json\n",
    "\n",
    "book = {\n",
    "    'title': 'To Kill a Mockingbird',\n",
    "    'author': 'Harper Lee',\n",
    "    'year': 1960,\n",
    "    'genre': 'Fiction'\n",
    "}\n",
    "\n",
    "json_string = json.dumps(book)  # Convert dict to JSON string\n",
    "print(json_string)  \n",
    "\n",
    "python_dict = json.loads(json_string)  # Convert JSON string back to dict\n",
    "print(python_dict) "
   ]
  },
  {
   "cell_type": "code",
   "execution_count": null,
   "id": "b1d5ef52-6ed2-4b65-ab2d-977107f8a53f",
   "metadata": {},
   "outputs": [],
   "source": []
  }
 ],
 "metadata": {
  "kernelspec": {
   "display_name": "Python 3 (ipykernel)",
   "language": "python",
   "name": "python3"
  },
  "language_info": {
   "codemirror_mode": {
    "name": "ipython",
    "version": 3
   },
   "file_extension": ".py",
   "mimetype": "text/x-python",
   "name": "python",
   "nbconvert_exporter": "python",
   "pygments_lexer": "ipython3",
   "version": "3.12.10"
  }
 },
 "nbformat": 4,
 "nbformat_minor": 5
}
