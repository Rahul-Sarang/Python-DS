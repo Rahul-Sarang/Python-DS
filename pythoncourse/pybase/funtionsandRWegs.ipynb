{
 "cells": [
  {
   "cell_type": "code",
   "execution_count": 2,
   "id": "35f161e5-97ea-4cf5-9f27-f804e845e37f",
   "metadata": {},
   "outputs": [
    {
     "name": "stdout",
     "output_type": "stream",
     "text": [
      "guest\n",
      "Rahul\n"
     ]
    }
   ],
   "source": [
    "#default argument\n",
    "def a(name=\"guest\"):\n",
    "    print(name)\n",
    "a()\n",
    "a(\"Rahul\")"
   ]
  },
  {
   "cell_type": "code",
   "execution_count": 5,
   "id": "31e81bef-29e6-425a-b916-c8fb6d859542",
   "metadata": {},
   "outputs": [
    {
     "name": "stdout",
     "output_type": "stream",
     "text": [
      "1\n",
      "2\n",
      "3\n",
      "4\n",
      "5\n",
      "6\n",
      "4\n",
      "2\n",
      "1\n",
      "Rahul\n"
     ]
    }
   ],
   "source": [
    " #postional argument\n",
    "def ab(*args):\n",
    "    for i in args:\n",
    "        print(i)\n",
    "ab(1,2,3,4,5,6,4,2,1,\"Rahul\")\n",
    "    "
   ]
  },
  {
   "cell_type": "code",
   "execution_count": 8,
   "id": "3b30c7c4-b312-4dfe-879b-e21760dcef47",
   "metadata": {},
   "outputs": [
    {
     "name": "stdout",
     "output_type": "stream",
     "text": [
      "name:rhl\n",
      "age:22\n",
      "country:India\n"
     ]
    }
   ],
   "source": [
    "### keyword argument\n",
    "def abc(**kwargs):\n",
    "    for key,value in kwargs.items():\n",
    "        print(f\"{key}:{value}\")\n",
    "abc(name=\"rhl\",age=\"22\",country=\"India\")    "
   ]
  },
  {
   "cell_type": "code",
   "execution_count": 12,
   "id": "d9c64326-6c5e-4ed3-ae0d-d6aa3044baf1",
   "metadata": {},
   "outputs": [
    {
     "name": "stdout",
     "output_type": "stream",
     "text": [
      "1\n",
      "2\n",
      "2\n",
      "1\n",
      "Rahul\n",
      "name:rhl\n",
      "age:22\n",
      "country:India\n"
     ]
    }
   ],
   "source": [
    "def all(*args,**kwargs):\n",
    "    for i in args:\n",
    "        print(i)\n",
    "    for key,value in kwargs.items():\n",
    "        print(f\"{key}:{value}\")\n",
    "all(1,2,2,1,\"Rahul\",name=\"rhl\",age=\"22\",country=\"India\")   \n"
   ]
  },
  {
   "cell_type": "code",
   "execution_count": 13,
   "id": "90643388-2dd7-45d8-beec-8e3b002b3ea6",
   "metadata": {},
   "outputs": [],
   "source": [
    "#total cost item in an shppoing cart\n",
    "cart=[{}]"
   ]
  },
  {
   "cell_type": "code",
   "execution_count": 14,
   "id": "2bd9591a-ddc2-4976-bdc7-49a92c1839bf",
   "metadata": {},
   "outputs": [
    {
     "name": "stdout",
     "output_type": "stream",
     "text": [
      "120\n"
     ]
    }
   ],
   "source": [
    " #factorial recursion\n",
    "def fact(n):\n",
    "    if n==0:\n",
    "        return 1\n",
    "    else:\n",
    "        return n* fact(n-1)\n",
    "print(fact(5))"
   ]
  },
  {
   "cell_type": "code",
   "execution_count": null,
   "id": "0de619ec-a0d9-4161-aa5f-9fcab1b2f76a",
   "metadata": {},
   "outputs": [],
   "source": []
  }
 ],
 "metadata": {
  "kernelspec": {
   "display_name": "Python 3 (ipykernel)",
   "language": "python",
   "name": "python3"
  },
  "language_info": {
   "codemirror_mode": {
    "name": "ipython",
    "version": 3
   },
   "file_extension": ".py",
   "mimetype": "text/x-python",
   "name": "python",
   "nbconvert_exporter": "python",
   "pygments_lexer": "ipython3",
   "version": "3.12.10"
  }
 },
 "nbformat": 4,
 "nbformat_minor": 5
}
