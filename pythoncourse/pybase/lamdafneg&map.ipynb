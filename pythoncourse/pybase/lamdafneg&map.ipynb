{
 "cells": [
  {
   "cell_type": "code",
   "execution_count": 2,
   "id": "f17681ce-c8e1-4a3e-b675-27bbda594a02",
   "metadata": {},
   "outputs": [
    {
     "name": "stdout",
     "output_type": "stream",
     "text": [
      "5\n"
     ]
    }
   ],
   "source": [
    "add=lambda a,b:a+b\n",
    "print(add(2,3))"
   ]
  },
  {
   "cell_type": "code",
   "execution_count": 3,
   "id": "de6b3e69-dd23-44e2-9466-1a0cc213b755",
   "metadata": {},
   "outputs": [
    {
     "data": {
      "text/plain": [
       "True"
      ]
     },
     "execution_count": 3,
     "metadata": {},
     "output_type": "execute_result"
    }
   ],
   "source": [
    "evn=lambda num : num%2==0\n",
    "evn(12)"
   ]
  },
  {
   "cell_type": "code",
   "execution_count": 15,
   "id": "50b866f1-6a4d-4a43-9469-51496bc5e0df",
   "metadata": {},
   "outputs": [
    {
     "name": "stdout",
     "output_type": "stream",
     "text": [
      "[1, 4, 9, 16]\n"
     ]
    }
   ],
   "source": [
    "#map()\n",
    "num=[1,2,3,4]\n",
    "a=list(map(lambda v:v**2,num))\n",
    "print(a)"
   ]
  },
  {
   "cell_type": "code",
   "execution_count": 18,
   "id": "23963693-deaf-491f-b488-c258ad1ecf14",
   "metadata": {},
   "outputs": [
    {
     "data": {
      "text/plain": [
       "[4, 9, 16, 25]"
      ]
     },
     "execution_count": 18,
     "metadata": {},
     "output_type": "execute_result"
    }
   ],
   "source": [
    "num7=[2,3,4,5]\n",
    "nm=lambda v:v**2\n",
    "\n",
    "list(map(nm,num7))"
   ]
  },
  {
   "cell_type": "code",
   "execution_count": 20,
   "id": "98af67ff-d840-4bd2-acbb-b6c066e6071c",
   "metadata": {},
   "outputs": [
    {
     "name": "stdout",
     "output_type": "stream",
     "text": [
      "[36, 59]\n"
     ]
    }
   ],
   "source": [
    "n1=[2,3]\n",
    "n2=[34,56]\n",
    "added=list(map(lambda a,b:a+b,n1,n2))\n",
    "print(added)"
   ]
  },
  {
   "cell_type": "code",
   "execution_count": 21,
   "id": "b8f3fdc0-e1f9-432f-8fc6-dc59c7200cd1",
   "metadata": {},
   "outputs": [
    {
     "name": "stdout",
     "output_type": "stream",
     "text": [
      "[23, 2]\n"
     ]
    }
   ],
   "source": [
    "str=['23','2']\n",
    "strint=list(map(int,str))\n",
    "print(strint)"
   ]
  },
  {
   "cell_type": "code",
   "execution_count": null,
   "id": "fda6aab6-0388-42df-b9eb-163fc86a354b",
   "metadata": {},
   "outputs": [],
   "source": []
  }
 ],
 "metadata": {
  "kernelspec": {
   "display_name": "Python 3 (ipykernel)",
   "language": "python",
   "name": "python3"
  },
  "language_info": {
   "codemirror_mode": {
    "name": "ipython",
    "version": 3
   },
   "file_extension": ".py",
   "mimetype": "text/x-python",
   "name": "python",
   "nbconvert_exporter": "python",
   "pygments_lexer": "ipython3",
   "version": "3.12.10"
  }
 },
 "nbformat": 4,
 "nbformat_minor": 5
}
