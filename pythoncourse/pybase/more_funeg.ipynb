{
 "cells": [
  {
   "cell_type": "code",
   "execution_count": 2,
   "id": "2f690609-4276-456d-89dc-ad0e55bcbd79",
   "metadata": {},
   "outputs": [],
   "source": [
    "### Assignment 6: Function with Decorators\n",
    "#Define a function that calculates the time taken to execute another function.\n",
    "#Apply this decorator to a function that performs a complex calculation.\n",
    "#Test the decorated function with different inputs."
   ]
  },
  {
   "cell_type": "code",
   "execution_count": 3,
   "id": "55ff488e-bfae-4058-875d-3b3797d60f04",
   "metadata": {},
   "outputs": [
    {
     "name": "stdout",
     "output_type": "stream",
     "text": [
      "Function complex_calculation took 0.00099945068359375 seconds to execute.\n",
      "333283335000\n"
     ]
    }
   ],
   "source": [
    "import time\n",
    "\n",
    "def timer_decorator(func):\n",
    "    def wrapper(*args, **kwargs):\n",
    "        start_time = time.time()\n",
    "        result = func(*args, **kwargs)\n",
    "        end_time = time.time()\n",
    "        print(f\"Function {func.__name__} took {end_time - start_time} seconds to execute.\")\n",
    "        return result\n",
    "    return wrapper\n",
    "\n",
    "@timer_decorator\n",
    "def complex_calculation(n):\n",
    "    return sum(x**2 for x in range(n))\n",
    "\n",
    "# Test\n",
    "print(complex_calculation(10000))"
   ]
  },
  {
   "cell_type": "code",
   "execution_count": 4,
   "id": "743490c8-b730-45f2-8041-0bb1a8fbdde3",
   "metadata": {},
   "outputs": [
    {
     "name": "stdout",
     "output_type": "stream",
     "text": [
      "[4, 16]\n",
      "[4, 5, 6]\n"
     ]
    }
   ],
   "source": [
    "#hiner order\n",
    "\n",
    "def filter_and_map(filter_func, map_func, lst):\n",
    "    return [map_func(x) for x in lst if filter_func(x)]\n",
    "\n",
    "# Testa\n",
    "print(filter_and_map(lambda x: x % 2 == 0, lambda x: x ** 2, [1, 2, 3, 4, 5]))  # [4, 16]\n",
    "print(filter_and_map(lambda x: x > 2, lambda x: x + 1, [1, 2, 3, 4, 5]))  # [4, 5, 6]"
   ]
  },
  {
   "cell_type": "code",
   "execution_count": 6,
   "id": "2c47a937-7d8f-4dc2-b00e-3ad869dc977a",
   "metadata": {},
   "outputs": [
    {
     "name": "stdout",
     "output_type": "stream",
     "text": [
      "6\n",
      "10\n"
     ]
    }
   ],
   "source": [
    "#Define a function that composes two functions, \n",
    "#f and g, such that the result is f(g(x)). Test with \n",
    "#different functions f and g\n",
    "from functools import partial\n",
    "\n",
    "multiply_by_2 = partial(lambda x, y: x * y, 2)\n",
    "\n",
    "# Test\n",
    "print(multiply_by_2(3))  # 6\n",
    "print(multiply_by_2(5))  # 10"
   ]
  },
  {
   "cell_type": "code",
   "execution_count": 7,
   "id": "3670bcf8-5fed-411b-9bf9-bdba4fec96cf",
   "metadata": {},
   "outputs": [
    {
     "name": "stdout",
     "output_type": "stream",
     "text": [
      "24\n",
      "30\n"
     ]
    }
   ],
   "source": [
    "#currying\n",
    "def curry_product(x):\n",
    "    def inner1(y):\n",
    "        def inner2(z):\n",
    "            return x * y * z\n",
    "        return inner2\n",
    "    return inner1\n",
    "\n",
    "# Test\n",
    "print(curry_product(2)(3)(4))  # 24\n",
    "print(curry_product(1)(5)(6))  # 30"
   ]
  },
  {
   "cell_type": "code",
   "execution_count": 10,
   "id": "7691a77c-2882-48d3-84c3-4b47600f037e",
   "metadata": {},
   "outputs": [],
   "source": [
    "#file write\n",
    "\n",
    "def write_to_file(lst, filename):\n",
    "    try:\n",
    "        with open(filename, 'w') as f:\n",
    "            for num in lst:\n",
    "                f.write(f\"{num}\\n\")\n",
    "    except IOError as e:\n",
    "        print(f\"An error occurred: {e}\")\n",
    "\n",
    "# Test\n",
    "write_to_file([1, 2, 3, 4, 5], 'outputofmore_funeg.txt')"
   ]
  },
  {
   "cell_type": "code",
   "execution_count": null,
   "id": "6a681137-6892-4d45-bdf9-f51d5dda9956",
   "metadata": {},
   "outputs": [],
   "source": []
  }
 ],
 "metadata": {
  "kernelspec": {
   "display_name": "Python 3 (ipykernel)",
   "language": "python",
   "name": "python3"
  },
  "language_info": {
   "codemirror_mode": {
    "name": "ipython",
    "version": 3
   },
   "file_extension": ".py",
   "mimetype": "text/x-python",
   "name": "python",
   "nbconvert_exporter": "python",
   "pygments_lexer": "ipython3",
   "version": "3.12.10"
  }
 },
 "nbformat": 4,
 "nbformat_minor": 5
}
