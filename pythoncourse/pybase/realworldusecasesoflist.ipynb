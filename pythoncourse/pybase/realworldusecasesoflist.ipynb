{
 "cells": [
  {
   "cell_type": "code",
   "execution_count": 1,
   "id": "44fe1194-8317-4d50-a3f3-79ddeaa01cd8",
   "metadata": {},
   "outputs": [],
   "source": [
    "tdl=[\"buy car\",\"clean\"]\n",
    "tdl.append(\"Run\")\n",
    "tdl.append(\"study\")\n",
    "\n",
    "tdl.remove(\"buy car\")\n",
    "\n",
    "# to do list\n",
    "#avg grade\n"
   ]
  },
  {
   "cell_type": "code",
   "execution_count": 6,
   "id": "2c219e86-97ae-49df-a024-210026fbd786",
   "metadata": {},
   "outputs": [
    {
     "name": "stdout",
     "output_type": "stream",
     "text": [
      "oranges are in stock.\n",
      "\n",
      "Current Inventory:\n",
      "- apples\n",
      "- oranges\n",
      "- grapes\n",
      "- strawberries\n"
     ]
    }
   ],
   "source": [
    "# Managing an inventory\n",
    "inventory = [\"apples\", \"bananas\", \"oranges\", \"grapes\"]\n",
    "\n",
    "# Adding a new item\n",
    "inventory.append(\"strawberries\")\n",
    "\n",
    "# Removing an item that is out of stock\n",
    "inventory.remove(\"bananas\")\n",
    "\n",
    "# Checking if an item is in stock\n",
    "item = \"oranges\"\n",
    "if item in inventory:\n",
    "    print(f\"{item} are in stock.\")\n",
    "else:\n",
    "    print(f\"{item} are out of stock.\")\n",
    "\n",
    "# Display the final inventory list\n",
    "print(\"\\nCurrent Inventory:\")\n",
    "for i in inventory:\n",
    "    print(f\"- {i}\")\n"
   ]
  },
  {
   "cell_type": "code",
   "execution_count": 2,
   "id": "97f7ff95-c201-4c88-a712-87a096418d3e",
   "metadata": {},
   "outputs": [
    {
     "name": "stdout",
     "output_type": "stream",
     "text": [
      "50 units of 'Apple' added/updated.\n",
      "100 units of 'Banana' added/updated.\n",
      "'Apple' stock updated by -10 units.\n",
      "'Banana' removed from inventory.\n",
      "\n",
      "Current Inventory:\n",
      "Item            Quantity   Price     \n",
      "Apple           40         10        \n"
     ]
    }
   ],
   "source": [
    "#managing a inventory using dictiory\n",
    "\n",
    "# Inventory will be stored as: { 'item_name': {'quantity': X, 'price': Y} }\n",
    "inventory = {}\n",
    "\n",
    "def add_item(name, quantity, price):\n",
    "    if name in inventory:\n",
    "        inventory[name]['quantity'] += quantity\n",
    "        inventory[name]['price'] = price  # update price if needed\n",
    "    else:\n",
    "        inventory[name] = {'quantity': quantity, 'price': price}\n",
    "    print(f\"{quantity} units of '{name}' added/updated.\")\n",
    "\n",
    "def remove_item(name):\n",
    "    if name in inventory:\n",
    "        del inventory[name]\n",
    "        print(f\"'{name}' removed from inventory.\")\n",
    "    else:\n",
    "        print(f\"'{name}' not found.\")\n",
    "\n",
    "def update_stock(name, quantity):\n",
    "    if name in inventory:\n",
    "        inventory[name]['quantity'] += quantity\n",
    "        print(f\"'{name}' stock updated by {quantity} units.\")\n",
    "    else:\n",
    "        print(f\"'{name}' not found in inventory.\")\n",
    "\n",
    "def view_inventory():\n",
    "    if not inventory: #checks is empty\n",
    "        print(\"Inventory is empty.\")\n",
    "        return\n",
    "    print(\"\\nCurrent Inventory:\")\n",
    "    print(\"{:<15} {:<10} {:<10}\".format(\"Item\", \"Quantity\", \"Price\"))\n",
    "    for item, details in inventory.items():\n",
    "        print(\"{:<15} {:<10} {:<10}\".format(item, details['quantity'], details['price']))\n",
    "\n",
    "# Sample usage\n",
    "add_item(\"Apple\", 50, 10)\n",
    "add_item(\"Banana\", 100, 5)\n",
    "update_stock(\"Apple\", -10)\n",
    "remove_item(\"Banana\")\n",
    "view_inventory()\n"
   ]
  },
  {
   "cell_type": "code",
   "execution_count": 4,
   "id": "f2fc1143-04dd-4c39-8fa2-4fd0c6c2d9b7",
   "metadata": {},
   "outputs": [
    {
     "name": "stdout",
     "output_type": "stream",
     "text": [
      "My name is Rahul and I am 20 years old.\n",
      "Rahul is teaching Python\n",
      "Rahul scored 95 in Math\n",
      "Price: 50.00\n",
      "Item         Qty\n",
      "Apples         5\n"
     ]
    }
   ],
   "source": [
    "print(\"My name is {} and I am {} years old.\".format(\"Rahul\", 20))\n",
    "print(\"{0} is teaching {1}\".format(\"Rahul\", \"Python\"))\n",
    "print(\"{student} scored {marks} in {subject}\".format(student=\"Rahul\", marks=95, subject=\"Math\"))\n",
    "price = 49.999\n",
    "print(\"Price: {:.2f}\".format(price))  # rounds to 2 decimal places\n",
    "print(\"{:<10} {:>5}\".format(\"Item\", \"Qty\"))  # left-align Item, right-align Qty\n",
    "print(\"{:<10} {:>5}\".format(\"Apples\", 5))\n"
   ]
  },
  {
   "cell_type": "code",
   "execution_count": null,
   "id": "ed2f23c6-8789-4aa5-8387-8d20abd43ec4",
   "metadata": {},
   "outputs": [],
   "source": [
    "# print(\"{:<15} {:<10} {:<10}\".format(\"Item\", \"Quantity\", \"Price\"))\n",
    "#This prints the column headers for the inventory in a neatly aligned way.\n",
    "\n",
    "#\"{:<15}\": Left-align the text and take up 15 character spaces.\n",
    "\n",
    "#\"{:<10}\": Left-align and take up 10 spaces (used for Quantity and Price).\n",
    "\n",
    "#The .format(\"Item\", \"Quantity\", \"Price\") fills in those placeholders."
   ]
  },
  {
   "cell_type": "code",
   "execution_count": 5,
   "id": "bca61159-6755-421c-bca5-c10a484f4a1f",
   "metadata": {},
   "outputs": [
    {
     "name": "stdout",
     "output_type": "stream",
     "text": [
      "Positive Feedback Count: 2\n",
      "User Feedback:\n",
      "- Great service!\n",
      "- Very satisfied\n",
      "- Could be better\n",
      "- Excellent experience\n",
      "- Not happy with the service\n"
     ]
    }
   ],
   "source": [
    "# Collecting user feedback\n",
    "feedback = [\"Great service!\", \"Very satisfied\", \"Could be better\", \"Excellent experience\"]\n",
    "\n",
    "# Adding new feedback\n",
    "feedback.append(\"Not happy with the service\")\n",
    "\n",
    "# Counting specific feedback (positive ones)\n",
    "positive_feedback_count = sum(\n",
    "    1 for comment in feedback \n",
    "    if \"great\" in comment.lower() or \"excellent\" in comment.lower()\n",
    ")\n",
    "\n",
    "# Displaying the count of positive feedback\n",
    "print(f\"Positive Feedback Count: {positive_feedback_count}\")\n",
    "\n",
    "# Printing all feedback\n",
    "print(\"User Feedback:\")\n",
    "for comment in feedback:\n",
    "    print(f\"- {comment}\")\n"
   ]
  },
  {
   "cell_type": "code",
   "execution_count": null,
   "id": "01cbc374-0907-4cb9-8e61-d3a3902f9833",
   "metadata": {},
   "outputs": [],
   "source": []
  }
 ],
 "metadata": {
  "kernelspec": {
   "display_name": "Python 3 (ipykernel)",
   "language": "python",
   "name": "python3"
  },
  "language_info": {
   "codemirror_mode": {
    "name": "ipython",
    "version": 3
   },
   "file_extension": ".py",
   "mimetype": "text/x-python",
   "name": "python",
   "nbconvert_exporter": "python",
   "pygments_lexer": "ipython3",
   "version": "3.12.10"
  }
 },
 "nbformat": 4,
 "nbformat_minor": 5
}
